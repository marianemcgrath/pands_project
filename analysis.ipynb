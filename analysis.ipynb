{
 "cells": [
  {
   "cell_type": "markdown",
   "id": "032e7b46",
   "metadata": {},
   "source": [
    "# This project concerns the well known Fisher's Iris Data Set\n",
    "\n",
    "## In this part, we'll look at some of the interesting findings on the presented data."
   ]
  },
  {
   "cell_type": "code",
   "execution_count": null,
   "id": "c057d967",
   "metadata": {},
   "outputs": [],
   "source": []
  }
 ],
 "metadata": {
  "language_info": {
   "name": "python"
  }
 },
 "nbformat": 4,
 "nbformat_minor": 5
}
