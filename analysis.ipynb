{
 "cells": [
  {
   "cell_type": "markdown",
   "id": "032e7b46",
   "metadata": {},
   "source": [
    "# This project concerns the well known Fisher's Iris Data Set\n",
    "\n",
    "## In this part, we'll look at some of the interesting findings on the presented data."
   ]
  }
 ],
 "metadata": {
  "language_info": {
   "name": "python"
  }
 },
 "nbformat": 4,
 "nbformat_minor": 5
}
